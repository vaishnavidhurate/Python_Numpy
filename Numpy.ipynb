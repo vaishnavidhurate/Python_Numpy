{
 "cells": [
  {
   "cell_type": "code",
   "execution_count": 1,
   "id": "0ffb56bb-c8d5-4112-b6ed-6ecbea67daca",
   "metadata": {},
   "outputs": [],
   "source": [
    "import numpy as np"
   ]
  },
  {
   "cell_type": "code",
   "execution_count": 2,
   "id": "b890c678-2e96-4410-953b-79abac6c05a3",
   "metadata": {},
   "outputs": [
    {
     "data": {
      "text/plain": [
       "'1.26.4'"
      ]
     },
     "execution_count": 2,
     "metadata": {},
     "output_type": "execute_result"
    }
   ],
   "source": [
    "np.__version__"
   ]
  },
  {
   "cell_type": "code",
   "execution_count": 3,
   "id": "444a72db-9f6f-43b4-a47d-37fcdb89afa5",
   "metadata": {},
   "outputs": [],
   "source": [
    "arr = np.array([1, 2, 2, 3, 4, 5])\n",
    "arr2d = np.array([[1, 2, 3, 4, 5, 6], [7, 8, 9, 10, 11, 12]])\n",
    "arr3d = np.array([[[1, 2, 3], [4, 5, 6]], [[7, 8, 9], [10, 11, 12]]])\n"
   ]
  },
  {
   "cell_type": "code",
   "execution_count": 4,
   "id": "f6cb9c50-d2e5-4d41-90bf-ff67c4ce0416",
   "metadata": {},
   "outputs": [
    {
     "name": "stdout",
     "output_type": "stream",
     "text": [
      "1\n",
      "2\n",
      "6\n"
     ]
    }
   ],
   "source": [
    "print(arr[0])  # 1D array\n",
    "print(arr2d[0, 1])  # 2D array\n",
    "print(arr3d[0, 1, 2])  # 3D array\n"
   ]
  },
  {
   "cell_type": "code",
   "execution_count": 5,
   "id": "c42c0586-4c0f-4795-8dcf-5cb79c270893",
   "metadata": {},
   "outputs": [
    {
     "name": "stdout",
     "output_type": "stream",
     "text": [
      "1\n",
      "(6,)\n",
      "6\n",
      "int32\n"
     ]
    }
   ],
   "source": [
    "print(arr.ndim)  # Number of dimensions\n",
    "print(arr.shape)  # Shape of the array\n",
    "print(arr.size)  # Total number of elements\n",
    "print(arr.dtype)  # Data type of elements\n"
   ]
  },
  {
   "cell_type": "code",
   "execution_count": 6,
   "id": "ff4f7bde-6771-4d7e-8240-d4cd943fe4f7",
   "metadata": {},
   "outputs": [
    {
     "name": "stdout",
     "output_type": "stream",
     "text": [
      "2\n",
      "(2, 6)\n",
      "12\n",
      "int32\n"
     ]
    }
   ],
   "source": [
    "print(arr2d.ndim)  # Number of dimensions\n",
    "print(arr2d.shape)  # Shape of the array\n",
    "print(arr2d.size)  # Total number of elements\n",
    "print(arr2d.dtype)  # Data type of elements"
   ]
  },
  {
   "cell_type": "code",
   "execution_count": 7,
   "id": "06fbe049-80e8-4d72-94bc-e1137a76fd54",
   "metadata": {},
   "outputs": [
    {
     "name": "stdout",
     "output_type": "stream",
     "text": [
      "3\n",
      "(2, 2, 3)\n",
      "12\n",
      "int32\n"
     ]
    }
   ],
   "source": [
    "print(arr3d.ndim)  # Number of dimensions\n",
    "print(arr3d.shape)  # Shape of the array\n",
    "print(arr3d.size)  # Total number of elements\n",
    "print(arr3d.dtype)  # Data type of elements"
   ]
  },
  {
   "cell_type": "code",
   "execution_count": 8,
   "id": "21be5d44-9e92-48f8-b557-c986161c397e",
   "metadata": {},
   "outputs": [
    {
     "name": "stdout",
     "output_type": "stream",
     "text": [
      "[1 2 2]\n",
      "[[2 3]\n",
      " [8 9]]\n",
      "[[ 2  5]\n",
      " [ 8 11]]\n"
     ]
    }
   ],
   "source": [
    "print(arr[0:3])  # Slicing 1D array\n",
    "print(arr2d[:, 1:3])  # Slicing 2D array\n",
    "print(arr3d[:, :, 1])  # Slicing 3D array\n"
   ]
  },
  {
   "cell_type": "code",
   "execution_count": 9,
   "id": "63d4095a-b2a2-4023-9d0d-3a7bb6328acc",
   "metadata": {},
   "outputs": [
    {
     "name": "stdout",
     "output_type": "stream",
     "text": [
      "[1 2 3]\n"
     ]
    }
   ],
   "source": [
    "a8 = np.array([1.1, 2.1, 3.1])\n",
    "new_a8 = a8.astype(int)  # Convert float to int\n",
    "print(new_a8)\n"
   ]
  },
  {
   "cell_type": "code",
   "execution_count": 10,
   "id": "51b84bc7-566f-4f73-ad15-5fdb6537a053",
   "metadata": {},
   "outputs": [],
   "source": [
    "zero_arr = np.zeros((2, 2))\n",
    "one_arr = np.ones((2, 2))\n",
    "full_arr = np.full((2, 2), 5)\n",
    "eye_arr = np.eye(3)  # Identity matrix\n"
   ]
  },
  {
   "cell_type": "code",
   "execution_count": 11,
   "id": "3ccf82f1-2e5b-4a6e-8dd2-72bc4c69e1b8",
   "metadata": {},
   "outputs": [
    {
     "name": "stdout",
     "output_type": "stream",
     "text": [
      "[14 20 24 32 30]\n",
      "[-10 -12 -12 -16 -10]\n",
      "[ 24  64 108 192 200]\n",
      "[6. 4. 3. 3. 2.]\n",
      "588\n"
     ]
    }
   ],
   "source": [
    "vector_1 = np.array([2, 4, 6, 8, 10])\n",
    "vector_2 = np.array([12, 16, 18, 24, 20])\n",
    "\n",
    "print(vector_1 + vector_2)  # Addition\n",
    "print(vector_1 - vector_2)  # Subtraction\n",
    "print(vector_1 * vector_2)  # Multiplication\n",
    "print(vector_2 / vector_1)  # Division\n",
    "print(vector_1.dot(vector_2))  # Dot product\n"
   ]
  },
  {
   "cell_type": "code",
   "execution_count": 13,
   "id": "28fdb9bc-b266-4db6-ba73-d16d44c14008",
   "metadata": {},
   "outputs": [
    {
     "name": "stdout",
     "output_type": "stream",
     "text": [
      "9\n",
      "0\n",
      "9\n",
      "0\n"
     ]
    }
   ],
   "source": [
    "a = np.arange(10).reshape(2, 5)\n",
    "print(a.max())  # Maximum value\n",
    "print(a.min())  # Minimum value\n",
    "print(np.argmax(a))  # Index of max value\n",
    "print(np.argmin(a))  # Index of min value\n",
    "\n",
    "# Creating arrays with specific patterns\n",
    "arrange_arr = np.arange(10)\n",
    "linspace_arr = np.linspace(0, 9, 5)\n"
   ]
  },
  {
   "cell_type": "code",
   "execution_count": null,
   "id": "14149a5a-709f-4a67-914b-b3db31806e8d",
   "metadata": {},
   "outputs": [],
   "source": []
  }
 ],
 "metadata": {
  "kernelspec": {
   "display_name": "Python 3 (ipykernel)",
   "language": "python",
   "name": "python3"
  },
  "language_info": {
   "codemirror_mode": {
    "name": "ipython",
    "version": 3
   },
   "file_extension": ".py",
   "mimetype": "text/x-python",
   "name": "python",
   "nbconvert_exporter": "python",
   "pygments_lexer": "ipython3",
   "version": "3.11.7"
  }
 },
 "nbformat": 4,
 "nbformat_minor": 5
}
